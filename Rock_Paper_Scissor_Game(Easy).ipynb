{
 "cells": [
  {
   "cell_type": "markdown",
   "id": "480e392a",
   "metadata": {},
   "source": [
    "## Rock_Paper_Scissors_Game"
   ]
  },
  {
   "cell_type": "code",
   "execution_count": 2,
   "id": "16830e70",
   "metadata": {},
   "outputs": [
    {
     "name": "stdout",
     "output_type": "stream",
     "text": [
      "Enter Your Choice rock,paper,scissor or quit to exit the gamerock\n",
      "Computer's Choice rock\n",
      "It's a Draw!\n",
      "\n",
      "Enter Your Choice rock,paper,scissor or quit to exit the gamerock\n",
      "Computer's Choice paper\n",
      "You Lost :(\n",
      "\n",
      "Enter Your Choice rock,paper,scissor or quit to exit the gamepaper\n",
      "Computer's Choice scissor\n",
      "You Lost :(\n",
      "\n",
      "Enter Your Choice rock,paper,scissor or quit to exit the gamepaper\n",
      "Computer's Choice rock\n",
      "You Won! :)\n",
      "\n",
      "Enter Your Choice rock,paper,scissor or quit to exit the gamequit\n",
      "----------------------------------\n",
      "Your Wins : 1\n",
      "Computer Wins : 2\n",
      "Draws : 1\n"
     ]
    }
   ],
   "source": [
    "#import random module\n",
    "import random\n",
    "\n",
    "#create variables\n",
    "user_wins = 0\n",
    "computer_wins = 0\n",
    "draws = 0\n",
    "options = [\"rock\",\"paper\",\"scissor\"]\n",
    "\n",
    "#main code\n",
    "while True:\n",
    "    user_input = input(\"Enter Your Choice rock,paper,scissor or quit to exit the game\").lower()\n",
    "    \n",
    "    if user_input == 'quit':\n",
    "        break\n",
    "    \n",
    "    if user_input not in options:\n",
    "        print(\"Please Enter Correct Choice\")\n",
    "        continue\n",
    "        \n",
    "    random_number = random.randint(0,2)\n",
    "    #rock:0 , paper:1 , scissor:2\n",
    "    computer_choice = options[random_number]\n",
    "    print(\"Computer's Choice\",computer_choice)\n",
    "    if user_input == 'rock' and computer_choice == 'rock':\n",
    "        print(\"It's a Draw!\")\n",
    "        draws +=1\n",
    "    elif user_input == 'paper' and computer_choice == 'paper':\n",
    "        print(\"It's a Draw!\")\n",
    "        draws +=1\n",
    "    elif user_input == 'scissor' and computer_choice == 'scissor':\n",
    "        print(\"It's a Draw!\")\n",
    "        draws +=1\n",
    "    elif user_input == 'rock' and computer_choice == 'scissor':\n",
    "        print(\"You Won! :)\")\n",
    "        user_wins +=1\n",
    "    elif user_input == 'paper' and computer_choice == 'rock':\n",
    "        print(\"You Won! :)\")\n",
    "        user_wins +=1\n",
    "    elif user_input == 'scissor' and computer_choice == 'paper':\n",
    "        print(\"You Won! :)\")\n",
    "        user_wins +=1\n",
    "    else:\n",
    "        print(\"You Lost :(\")\n",
    "        computer_wins +=1\n",
    "    print()\n",
    "   \n",
    "#print result\n",
    "print(\"----------------------------------\")\n",
    "print(f\"Your Wins : {user_wins}\") \n",
    "print(f\"Computer Wins : {computer_wins}\")\n",
    "print(f\"Draws : {draws}\")"
   ]
  },
  {
   "cell_type": "code",
   "execution_count": null,
   "id": "178903f9",
   "metadata": {},
   "outputs": [],
   "source": []
  }
 ],
 "metadata": {
  "kernelspec": {
   "display_name": "Python 3 (ipykernel)",
   "language": "python",
   "name": "python3"
  },
  "language_info": {
   "codemirror_mode": {
    "name": "ipython",
    "version": 3
   },
   "file_extension": ".py",
   "mimetype": "text/x-python",
   "name": "python",
   "nbconvert_exporter": "python",
   "pygments_lexer": "ipython3",
   "version": "3.11.4"
  }
 },
 "nbformat": 4,
 "nbformat_minor": 5
}
