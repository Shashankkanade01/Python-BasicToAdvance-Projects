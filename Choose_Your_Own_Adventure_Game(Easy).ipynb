{
 "cells": [
  {
   "cell_type": "code",
   "execution_count": 1,
   "id": "6ee502c4",
   "metadata": {},
   "outputs": [
    {
     "name": "stdout",
     "output_type": "stream",
     "text": [
      "Enter Your Name :shashank\n",
      "Welcome Shashank To this adventure!\n",
      "-------------------------------------------------------------------------------------------------\n",
      "You are on a dirt road and it has come to an end. Do you like to go right or left?\n",
      "If you like to go right enter 'right' or if you like to go left enter 'left'.\n",
      "Which way do you want to go? right\n",
      "You come to a bridge. It looks wobbly\n",
      "Do you want to cross it? or go back\n",
      "If you want to go back enter 'back' or if you want to cross it enter 'cross'cross\n",
      "Nice Choice!\n",
      "You walked a bit after crossing the bridge\n",
      "Now there are 3 ways to go\n",
      "Remember only one of these 3 can take you to the treasure\n",
      "Choose the correct way!\n",
      "1st one goes to a beach if you want to go to beach enter 'beach'\n",
      "2nd one goes to mountains if you want to go to mountains enter 'mountains'\n",
      "3rd one goes to caves if you want to go to caves enter 'caves'\n",
      "beach\n",
      "------------------------------------\n",
      "Hurray! You won the adventure and found the treasure!! Congratulations\n"
     ]
    }
   ],
   "source": [
    "name = input(\"Enter Your Name :\").capitalize()\n",
    "print(\"Welcome\",name,\"To this adventure!\")\n",
    "print(\"-------------------------------------------------------------------------------------------------\")\n",
    "answer = input(\"You are on a dirt road and it has come to an end. Do you like to go right or left?\\n\"\n",
    "               \"If you like to go right enter 'right' or if you like to go left enter 'left'.\\n\"\n",
    "               \"Which way do you want to go? \").lower()\n",
    "\n",
    "if answer == 'left':\n",
    "    ans1 = input(\"Ohh! There is a river.\\n\"\n",
    "                 \"Now you can walk around it or swim across it\\n\"\n",
    "                 \"If You like to walk enter 'walk' or if you want to swim enter 'swim'\\n\"\n",
    "                 \"What do you want to do? \").lower()\n",
    "    \n",
    "    if ans1 == 'walk':\n",
    "        print(\"------------------------------------\")\n",
    "        print(\"Ohh you walk miles and got dehydrated! Sorry you Lost :(\")\n",
    "    elif ans1 == 'swim':\n",
    "        print(\"------------------------------------\")\n",
    "        print(\"You swam and were eaten by an alligator! Sorry you Lost :(\")\n",
    "    else:\n",
    "        print(\"------------------------------------\")\n",
    "        print(\"Invalid Input, You lose :(\")\n",
    "        \n",
    "elif answer == 'right':\n",
    "    ans2 = input(\"You come to a bridge. It looks wobbly\\n\"\n",
    "                 \"Do you want to cross it? or go back\\n\"\n",
    "                 \"If you want to go back enter 'back' or if you want to cross it enter 'cross'\").lower()\n",
    "    if ans2 == 'back':\n",
    "        print(\"------------------------------------\")\n",
    "        print(\"Why you backout you loser you Lost!\")\n",
    "    elif ans2 == 'cross':\n",
    "        print(\"Nice Choice!\")\n",
    "        ans3 = input(\"You walked a bit after crossing the bridge\\n\"\n",
    "                     \"Now there are 3 ways to go\\n\"\n",
    "                     \"Remember only one of these 3 can take you to the treasure\\n\"\n",
    "                     \"Choose the correct way!\\n\"\n",
    "                     \"1st one goes to a beach if you want to go to beach enter 'beach'\\n\"\n",
    "                     \"2nd one goes to mountains if you want to go to mountains enter 'mountains'\\n\"\n",
    "                     \"3rd one goes to caves if you want to go to caves enter 'caves'\\n\").lower()\n",
    "        if ans3 == 'beach':\n",
    "            print(\"------------------------------------\")\n",
    "            print(\"Hurray! You won the adventure and found the treasure!! Congratulations\")\n",
    "        elif ans3 == 'mountain' or ans3 == 'mountains':\n",
    "            print(\"------------------------------------\")\n",
    "            print(\"Sorry You choose wrong way! You lost\")\n",
    "        elif ans3 == 'cave' or ans3 == 'caves':\n",
    "            print(\"------------------------------------\")\n",
    "            print(\"Sorry You choose wrong way! You lost\")\n",
    "        else:\n",
    "            print(\"------------------------------------\")\n",
    "            print(\"Invalid Input, You lose :(\")   \n",
    "    else:\n",
    "        print(\"------------------------------------\")\n",
    "        print(\"Invalid Input, You lose :(\")\n",
    "            \n",
    "else:\n",
    "    print(\"------------------------------------\")\n",
    "    print(\"Invalid Input, You lose :(\")"
   ]
  }
 ],
 "metadata": {
  "kernelspec": {
   "display_name": "Python 3 (ipykernel)",
   "language": "python",
   "name": "python3"
  },
  "language_info": {
   "codemirror_mode": {
    "name": "ipython",
    "version": 3
   },
   "file_extension": ".py",
   "mimetype": "text/x-python",
   "name": "python",
   "nbconvert_exporter": "python",
   "pygments_lexer": "ipython3",
   "version": "3.11.4"
  }
 },
 "nbformat": 4,
 "nbformat_minor": 5
}
