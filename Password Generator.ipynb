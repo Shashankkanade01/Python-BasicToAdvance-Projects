{
 "cells": [
  {
   "cell_type": "code",
   "execution_count": 198,
   "id": "0e92ae05",
   "metadata": {},
   "outputs": [
    {
     "name": "stdout",
     "output_type": "stream",
     "text": [
      "Enter the minimum length: 20\n",
      "Do you want to have numbers (y/n)? n\n",
      "Do you want to have special characters (y/n)? n\n",
      "gkhjgKDOXWPeOarLWxMB\n"
     ]
    }
   ],
   "source": [
    "import string\n",
    "import random\n",
    "\n",
    "def generate_password(min_length, numbers=True, special_characters=True):\n",
    "    letters = string.ascii_letters\n",
    "    digits = string.digits\n",
    "    special = string.punctuation\n",
    "    \n",
    "    characters = letters\n",
    "    if numbers:\n",
    "        characters += digits\n",
    "    if special_characters:\n",
    "        characters += special\n",
    "        \n",
    "    password = \"\"\n",
    "    meets_criteria = False\n",
    "    has_number = False\n",
    "    has_special = False\n",
    "    \n",
    "    while not meets_criteria or len(password) < min_length:\n",
    "        new_char = random.choice(characters)\n",
    "        password += new_char\n",
    "        \n",
    "        if new_char in digits:\n",
    "            has_number = True\n",
    "        if new_char in special:\n",
    "            has_special = True\n",
    "            \n",
    "        meets_criteria = True\n",
    "        if numbers:\n",
    "            meets_criteria = meets_criteria and has_number\n",
    "        if special_characters:\n",
    "            meets_criteria = meets_criteria and has_special\n",
    "            \n",
    "    return password\n",
    "\n",
    "min_length = int(input(\"Enter the minimum length: \"))\n",
    "has_number = input(\"Do you want to have numbers (y/n)? \").lower() == 'y'\n",
    "has_special = input(\"Do you want to have special characters (y/n)? \").lower() == 'y'\n",
    "password = generate_password(min_length, has_number, has_special)\n",
    "print(password)"
   ]
  },
  {
   "cell_type": "code",
   "execution_count": null,
   "id": "06f02d22",
   "metadata": {},
   "outputs": [],
   "source": []
  }
 ],
 "metadata": {
  "kernelspec": {
   "display_name": "Python 3 (ipykernel)",
   "language": "python",
   "name": "python3"
  },
  "language_info": {
   "codemirror_mode": {
    "name": "ipython",
    "version": 3
   },
   "file_extension": ".py",
   "mimetype": "text/x-python",
   "name": "python",
   "nbconvert_exporter": "python",
   "pygments_lexer": "ipython3",
   "version": "3.11.4"
  }
 },
 "nbformat": 4,
 "nbformat_minor": 5
}
