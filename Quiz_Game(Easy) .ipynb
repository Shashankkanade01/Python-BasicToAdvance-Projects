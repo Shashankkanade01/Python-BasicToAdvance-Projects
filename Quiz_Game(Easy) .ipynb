{
 "cells": [
  {
   "cell_type": "markdown",
   "id": "3acfae04",
   "metadata": {},
   "source": [
    "## Project 1 : Quiz Game"
   ]
  },
  {
   "cell_type": "code",
   "execution_count": 2,
   "id": "ef7b9178",
   "metadata": {},
   "outputs": [],
   "source": [
    "#Create variables of questions and answers \n",
    "que1 = \"National animal of India ?\"\n",
    "que2 = \"How many states are there in India ?\"\n",
    "que3 = \"Who is most followed Indian on instagram ?\"\n",
    "que4 = \"234 + 786 = ?\"\n",
    "que5 = \"National fruit of India ?\"\n",
    "\n",
    "ans1 = \"tiger\"\n",
    "ans2 = \"28\"\n",
    "ans3 = \"virat kohli\"\n",
    "ans4 = \"1020\"\n",
    "ans5 = \"mango\""
   ]
  },
  {
   "cell_type": "code",
   "execution_count": 3,
   "id": "58e634f2",
   "metadata": {},
   "outputs": [],
   "source": [
    "#Create list of variables of questions and anwers You created\n",
    "list_of_questions = [que1,que2,que3,que4,que5]\n",
    "list_of_answers = [ans1,ans2,ans3,ans4,ans5]"
   ]
  },
  {
   "cell_type": "code",
   "execution_count": 4,
   "id": "6037a095",
   "metadata": {},
   "outputs": [
    {
     "name": "stdout",
     "output_type": "stream",
     "text": [
      "National animal of India ?\n",
      "Enter Your Answer : Tiger\n",
      "\n",
      "How many states are there in India ?\n",
      "Enter Your Answer : 29\n",
      "\n",
      "Who is most followed Indian on instagram ?\n",
      "Enter Your Answer : VirAT KOHLI\n",
      "\n",
      "234 + 786 = ?\n",
      "Enter Your Answer : 1234\n",
      "\n",
      "National fruit of India ?\n",
      "Enter Your Answer : JackFruit\n",
      "\n",
      "---------------------------------------------------\n",
      "Your Answers are : ['Tiger', '29', 'VirAT KOHLI', '1234', 'JackFruit']\n",
      "Your Score is : 2\n",
      "Percentage You Scored : 40.0\n",
      "Count Of Correct Answers : 2 \n",
      "Count Of Wrong Answers : 3\n"
     ]
    }
   ],
   "source": [
    "#create variable for count of total questions\n",
    "total_questions = 5\n",
    "\n",
    "#create empty list to save user's answers\n",
    "user_answers = []\n",
    "\n",
    "#create variable to count the score\n",
    "score = 0\n",
    "\n",
    "#create counter variable\n",
    "count = 0\n",
    "\n",
    "#main code\n",
    "for i in list_of_questions:\n",
    "    print(i)\n",
    "    user_ans = input(\"Enter Your Answer : \")\n",
    "    print()\n",
    "    user_answers.append(user_ans)\n",
    "    if user_ans.lower() == list_of_answers[count]:\n",
    "        score += 1\n",
    "    else:\n",
    "        score = score\n",
    "    count +=1\n",
    "          \n",
    "#output \n",
    "print(\"---------------------------------------------------\")\n",
    "print(f\"Your Answers are : {user_answers}\")\n",
    "print(f\"Your Score is : {score}\")\n",
    "print(f\"Percentage You Scored : {(score/5)*100}\")\n",
    "print(f\"Count Of Correct Answers : {score} \")\n",
    "print(f\"Count Of Wrong Answers : {total_questions-score}\")"
   ]
  }
 ],
 "metadata": {
  "kernelspec": {
   "display_name": "Python 3 (ipykernel)",
   "language": "python",
   "name": "python3"
  },
  "language_info": {
   "codemirror_mode": {
    "name": "ipython",
    "version": 3
   },
   "file_extension": ".py",
   "mimetype": "text/x-python",
   "name": "python",
   "nbconvert_exporter": "python",
   "pygments_lexer": "ipython3",
   "version": "3.11.4"
  }
 },
 "nbformat": 4,
 "nbformat_minor": 5
}
