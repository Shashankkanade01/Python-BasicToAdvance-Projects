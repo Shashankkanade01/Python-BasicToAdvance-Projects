{
 "cells": [
  {
   "cell_type": "code",
   "execution_count": 2,
   "id": "69a4088c",
   "metadata": {},
   "outputs": [],
   "source": [
    "#importing module : random\n",
    "import random"
   ]
  },
  {
   "cell_type": "code",
   "execution_count": 3,
   "id": "bc19f1ae",
   "metadata": {},
   "outputs": [
    {
     "name": "stdout",
     "output_type": "stream",
     "text": [
      "Welome To My Number Guessing Game\n",
      "Do You Want To Play The Game? : yes\n",
      "--------------------------------\n",
      "Let's Start The Game!\n",
      "-------------------------------------------------------\n",
      "Enter a number which will be top range of random numbers which are going to get generated : 100\n",
      "We have created a random number between 0 to 100 guess it:)\n",
      "You have only 3 guesses to guess the random number\n",
      "-------------------------------------------------------\n",
      "Enter Your Guess : 50\n",
      "Wrong Guess Please Try Again\n",
      "Your guess is lower than the number\n",
      "\n",
      "Enter Your Guess : 75\n",
      "Wrong Guess Please Try Again\n",
      "Your guess is lower than the number\n",
      "\n",
      "Enter Your Guess : 90\n",
      "Wrong Guess Please Try Again\n",
      "Your guess is lower than the number\n",
      "\n",
      "Sorry, you've used all your guesses. The random number was 93\n"
     ]
    }
   ],
   "source": [
    "#Welcome the user to the game\n",
    "print(\"Welome To My Number Guessing Game\")\n",
    "\n",
    "#ask user of they want to play the game\n",
    "ans = input(\"Do You Want To Play The Game? : \")\n",
    "print(\"--------------------------------\")\n",
    "if ans.lower() != 'yes':\n",
    "    quit()\n",
    "else:\n",
    "    #create viriables to use in the code\n",
    "    flag = True\n",
    "    lives = 0\n",
    "    \n",
    "    print(\"Let's Start The Game!\")\n",
    "    print(\"-------------------------------------------------------\")\n",
    "    \n",
    "    #take input from the user for the number which should be top for random.randint() function\n",
    "    top_of_range = input(\"Enter a number which will be top range of random numbers which are going to get generated : \")\n",
    "    if top_of_range.isdigit() and int(top_of_range)>0:\n",
    "        top_of_range = int(top_of_range)\n",
    "    else:\n",
    "        print(\"Please enter number as a input and it should be greater than zero (0)\")\n",
    "        quit()\n",
    "    print(f\"We have created a random number between 0 to {top_of_range} guess it:)\")\n",
    "    print(\"You have only 3 guesses to guess the random number\")\n",
    "    print(\"-------------------------------------------------------\")\n",
    "    \n",
    "    #create a random number\n",
    "    random_num = random.randint(0,top_of_range)\n",
    "    \n",
    "    #main code\n",
    "    while flag is True and lives<3:\n",
    "        guess = input(\"Enter Your Guess : \")\n",
    "        if guess.isdigit():\n",
    "            guess = int(guess)\n",
    "        else:\n",
    "            print(\"Please enter the number not string\")\n",
    "            continue\n",
    "            \n",
    "        if guess == random_num:\n",
    "            print(f\"Correct Guess! Random number is {guess}\")\n",
    "            flag = False\n",
    "        else:\n",
    "            print(\"Wrong Guess Please Try Again\")\n",
    "            if guess > random_num:\n",
    "                print(\"Your guess is higher than the number\")\n",
    "            elif guess < random_num:\n",
    "                print(\"Your guess is lower than the number\")\n",
    "            lives +=1\n",
    "        print()\n",
    "    if lives == 3:\n",
    "        print(f\"Sorry, you've used all your guesses. The random number was {random_num}\")"
   ]
  },
  {
   "cell_type": "code",
   "execution_count": null,
   "id": "dbb32d5d",
   "metadata": {},
   "outputs": [],
   "source": []
  }
 ],
 "metadata": {
  "kernelspec": {
   "display_name": "Python 3 (ipykernel)",
   "language": "python",
   "name": "python3"
  },
  "language_info": {
   "codemirror_mode": {
    "name": "ipython",
    "version": 3
   },
   "file_extension": ".py",
   "mimetype": "text/x-python",
   "name": "python",
   "nbconvert_exporter": "python",
   "pygments_lexer": "ipython3",
   "version": "3.11.4"
  }
 },
 "nbformat": 4,
 "nbformat_minor": 5
}
