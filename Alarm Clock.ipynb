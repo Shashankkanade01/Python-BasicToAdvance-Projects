{
 "cells": [
  {
   "cell_type": "code",
   "execution_count": 38,
   "id": "4582cbb6",
   "metadata": {},
   "outputs": [],
   "source": [
    "import time\n",
    "import pygame\n",
    "from IPython.display import clear_output"
   ]
  },
  {
   "cell_type": "code",
   "execution_count": 39,
   "id": "9bd518d2",
   "metadata": {},
   "outputs": [],
   "source": [
    "def alarm(seconds):\n",
    "    time_elapsed = 0\n",
    "    \n",
    "    \n",
    "    while time_elapsed < seconds:\n",
    "        time.sleep(1)\n",
    "        time_elapsed +=1\n",
    "        \n",
    "        time_left = seconds - time_elapsed\n",
    "        minutes_left = time_left // 60\n",
    "        seconds_left = time_left % 60\n",
    "        \n",
    "        clear_output(wait=True)\n",
    "        print(f\"{minutes_left:02d}:{seconds_left:02d}\")\n",
    "        \n",
    "    pygame.mixer.init()\n",
    "    pygame.mixer.music.load(\"alarm1.mp3\")\n",
    "    pygame.mixer.music.play()"
   ]
  },
  {
   "cell_type": "code",
   "execution_count": 41,
   "id": "d720d972",
   "metadata": {},
   "outputs": [
    {
     "name": "stdout",
     "output_type": "stream",
     "text": [
      "00:00\n"
     ]
    }
   ],
   "source": [
    "minutes = int(input(\"How many minutes to wait for alarm : \"))\n",
    "seconds = int(input(\"How many seconds to wait for alarm : \"))\n",
    "total_time = minutes * 60 + seconds\n",
    "alarm(total_time)"
   ]
  },
  {
   "cell_type": "code",
   "execution_count": null,
   "id": "fba4f921",
   "metadata": {},
   "outputs": [],
   "source": []
  }
 ],
 "metadata": {
  "kernelspec": {
   "display_name": "Python 3 (ipykernel)",
   "language": "python",
   "name": "python3"
  },
  "language_info": {
   "codemirror_mode": {
    "name": "ipython",
    "version": 3
   },
   "file_extension": ".py",
   "mimetype": "text/x-python",
   "name": "python",
   "nbconvert_exporter": "python",
   "pygments_lexer": "ipython3",
   "version": "3.11.4"
  }
 },
 "nbformat": 4,
 "nbformat_minor": 5
}
